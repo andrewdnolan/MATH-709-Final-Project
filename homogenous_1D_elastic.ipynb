{
 "cells": [
  {
   "cell_type": "markdown",
   "metadata": {},
   "source": [
    "# Homogenous 1D Elastic Wave Equation \n",
    "\n",
    "In order to explote finite volume solvers we seek to investigate the 1-D elastic wave equation propogating through a homogenous medium. The source free elastic wave equation can be written a coupled sytems of equation \n",
    "$$\n",
    "\\begin{gather*}\n",
    "    \\frac{\\partial}{\\partial t} \\sigma - \\mu \\frac{\\partial}{\\partial x} v = 0  \\\\\n",
    "     \\frac{\\partial}{\\partial t} v - \\frac{1}{\\rho} \\frac{\\partial}{\\partial x} \\sigma = 0 \n",
    "\\end{gather*}\n",
    "$$\n",
    "where $\\sigma = \\sigma_{xy}(x,t)$ is the shear stress component of the stress tensor, $v = v_y(x,t)$ is the transerve velocity, $\\rho$ is the density and $\\mu$ is the bulk modulus. In matrix vector notation the equation becomes \n",
    "$$\n",
    "\\begin{gather*}\n",
    "    \\partial_t \\begin{bmatrix} \\sigma \\\\ v \\end{bmatrix} + \\begin{bmatrix} 0 & -\\mu \\\\ -1/\\rho & 0 \\end{bmatrix} \\partial_x \\begin{bmatrix} \\sigma \\\\ v \\end{bmatrix} = 0 \\\\\n",
    "    \\partial_t Q + A \\partial_x Q = 0. \n",
    "\\end{gather*}\n",
    "$$\n",
    "Our elastic wave eqaution above is analgous to the 1-D advection equation except our equations above are a couple system of equations. In order to make use  of the well documented numerical methods for the 1-D advection equation we must decouple this system. We seek to show that the equation is hyperbolic by demonstarting that $A$ is diagonalizable with real eigenvalues. We are looking for the eigenvalue decomposition of $A$ such that \n",
    "$$\n",
    "\\begin{equation*}\n",
    "    A = X \\Lambda X^{-1}\\\\\n",
    "\\end{equation*}\n",
    "$$\n",
    "By subbing in the the eigendecompostion of $A$ into our matrix vector form of our equation and multiplying both sides of the equation by $X^{-1}$ we get \n",
    "$$\n",
    "\\begin{equation*}\n",
    "   X^{-1} \\partial_t Q +X^{-1} X \\Lambda X^{-1} \\partial_x Q = 0. \n",
    "\\end{equation*}\n",
    "$$\n",
    "where the $X^{-1}Q = W$ the solution vector. Simplying the equation \n",
    "$$\n",
    "\\begin{equation*}\n",
    "   \\partial_t W + \\Lambda \\partial_x W = 0. \n",
    "\\end{equation*}\n",
    "$$\n",
    "we now have a decoupled equation which allows us to utilize the numerical methods derived for the advection equation. We find the eigenvalues of $A$ to be \n",
    "$$\n",
    "\\begin{align*}\n",
    "    Ax &= \\lambda x \\\\\n",
    "    (A-\\lambda I )x &= 0 \\\\\n",
    "    \\det\\left|\\begin{matrix} -\\lambda & -\\mu\\\\ -1/\\rho & -\\lambda\\end{matrix} \\right| &= 0\\\\\n",
    "    \\lambda & = \\pm \\sqrt{\\mu/\\rho} = \\pm C\n",
    "\\end{align*}\n",
    "$$\n",
    "where $C$ is the shear stress velocity. Therefore the eigenvectors of $A$ are \n",
    "$$\n",
    "\\begin{align*}\n",
    "    \\begin{bmatrix} C & -\\mu \\\\ -1/\\rho & C \\end{bmatrix} \\begin{bmatrix} x_1 \\\\ x_2\\end{bmatrix} = 0, && x_1 = \\begin{bmatrix} \\rho c \\\\ 1\\end{bmatrix}\n",
    "\\end{align*}\n",
    "$$\n",
    "and \n",
    "$$\n",
    "\\begin{align*}\n",
    "    \\begin{bmatrix} -C & -\\mu \\\\ -1/\\rho & -C \\end{bmatrix} \\begin{bmatrix} x_1 \\\\ x_2\\end{bmatrix} = 0, && x_2 = \\begin{bmatrix} -\\rho c \\\\ 1\\end{bmatrix}.\n",
    "\\end{align*}\n",
    "$$\n",
    "Which now have our matrix of eigenvectors\n",
    "$$\n",
    "\\begin{align*}\n",
    "    X = \\begin{bmatrix} pc & -pc \\\\ 1 & 1\\end{bmatrix}\n",
    "\\end{align*}\n",
    "$$\n",
    "for which the inverse is \n",
    "$$\n",
    "\\begin{align*}\n",
    "    X^{-1} = \\frac{1}{2\\rho c} \\begin{bmatrix} 1 & pc \\\\ -1 & pc\\end{bmatrix}\n",
    "\\end{align*}\n",
    "$$\n",
    "meaning we have a full eigendecompsotion of $A$ such that \n",
    "$$\n",
    "\\begin{align*}\n",
    "    A = \\begin{bmatrix} pc & -pc \\\\ 1 & 1 \\end{bmatrix} \\begin{bmatrix} -c & 0 \\\\ 0 & c \\end{bmatrix} \\frac{1}{2\\rho c} \\begin{bmatrix} 1 & pc \\\\ -1 & pc\\end{bmatrix}\n",
    "\\end{align*}\n",
    "$$"
   ]
  },
  {
   "cell_type": "markdown",
   "metadata": {},
   "source": [
    "## Intializing and inital conditions "
   ]
  },
  {
   "cell_type": "code",
   "execution_count": 1,
   "metadata": {},
   "outputs": [],
   "source": [
    "%matplotlib inline\n",
    "import numpy as np \n",
    "from scipy import linalg as LA \n",
    "import matplotlib.pyplot as plt \n",
    "from matplotlib import animation, rc\n",
    "rc('animation', html='html5')"
   ]
  },
  {
   "cell_type": "code",
   "execution_count": 2,
   "metadata": {},
   "outputs": [
    {
     "data": {
      "text/plain": [
       "<matplotlib.legend.Legend at 0x10f90efd0>"
      ]
     },
     "execution_count": 2,
     "metadata": {},
     "output_type": "execute_result"
    },
    {
     "data": {
      "image/png": "[encoded data removed]",
      "text/plain": [
       "<Figure size 432x288 with 1 Axes>"
      ]
     },
     "metadata": {
      "needs_background": "light"
     },
     "output_type": "display_data"
    }
   ],
   "source": [
    "# Material Properties \n",
    "# -----------------------------------------------------\n",
    "C   = 2500              # velcoity (m/s) \n",
    "rho = 2500              # density  (kg/m^3) \n",
    "Z   = rho*C             # impedance (kg/(s m^2))\n",
    "mu  = rho*C**2          # bluk modulus \n",
    "\n",
    "# Model Domain \n",
    "# -----------------------------------------------------\n",
    "nx  = 1000              # number of grid cells\n",
    "L   = 10*1000           # domain length (m)\n",
    "cfl = 0.9               # Counrant Number \n",
    "T   = 2                 # length of simulation (s)\n",
    "\n",
    "# Inital Conditions\n",
    "# -----------------------------------------------------\n",
    "bet = 5e-6              # arugments in initial cond.\n",
    "gam = 2e-5              # arugments in initial cond.\n",
    "x0  = 5000              # postion of the initial conidition \n",
    "\n",
    "# Initalizing spatial domain \n",
    "x, dx = np.linspace(0,L,nx+1,retstep=True)\n",
    "\n",
    "# Calculate time step based on CFL criterion \n",
    "dt  = cfl*dx/C\n",
    "nt  = int(np.floor(T/dt))\n",
    "\n",
    "# Initalize solution matrix\n",
    "Q = np.zeros((nx+1,nt))\n",
    "\n",
    "# Inital condition\n",
    "# -----------------------------------------------------\n",
    "Q[:,0]  = np.exp(-bet * (x-x0)**2) * np.cos(gam * (x - x0))\n",
    "\n",
    "# Plot inital condition\n",
    "# -----------------------------------------------------\n",
    "plt.plot(x,  Q[:,0],'r-o', lw=1, markersize=1.5,  label=\"inital condition\")\n",
    "plt.ylabel('Amplitude')\n",
    "plt.xlabel('x')\n",
    "plt.legend()\n",
    "#plt.savefig('./test.eps')"
   ]
  },
  {
   "cell_type": "code",
   "execution_count": null,
   "metadata": {},
   "outputs": [],
   "source": [
    "np.linspace"
   ]
  }
 ],
 "metadata": {
  "kernelspec": {
   "display_name": "Python 3",
   "language": "python",
   "name": "python3"
  },
  "language_info": {
   "codemirror_mode": {
    "name": "ipython",
    "version": 3
   },
   "file_extension": ".py",
   "mimetype": "text/x-python",
   "name": "python",
   "nbconvert_exporter": "python",
   "pygments_lexer": "ipython3",
   "version": "3.6.7"
  }
 },
 "nbformat": 4,
 "nbformat_minor": 2
}
