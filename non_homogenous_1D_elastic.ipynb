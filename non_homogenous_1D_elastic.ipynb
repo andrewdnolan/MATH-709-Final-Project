{
 "cells": [
  {
   "cell_type": "markdown",
   "metadata": {},
   "source": [
    "# Non-homogenous 1D Elastic Wave Equation \n",
    "\n",
    "In order to explote finite volume solvers we seek to investigate the 1-D elastic wave equation propogating through a non-homogenous medium. The source free elastic wave equation can be written a coupled sytems of equation \n",
    "\\begin{equation}\n",
    "    \\frac{\\partial}{\\partial t} \\sigma - \\mu \\frac{\\partial}{\\partial x} v = 0  \\:\\:\\:\\:\\:\\: (1) \\\\\n",
    "     \\frac{\\partial}{\\partial t} v - \\frac{1}{\\rho} \\frac{\\partial}{\\partial x} \\sigma = 0 \\:\\:\\:\\:\\:\\: (2) \\\\\n",
    "\\end{equation}\n",
    "where $\\sigma = \\sigma_{xy}(x,t)$ is the shear stress component of the stress tensor, $v = v_y(x,t)$ is the transerve velocity, $\\rho$ is the density and $\\mu$ is the bulk modulus. "
   ]
  },
  {
   "cell_type": "code",
   "execution_count": null,
   "metadata": {},
   "outputs": [],
   "source": []
  }
 ],
 "metadata": {
  "kernelspec": {
   "display_name": "Python 3",
   "language": "python",
   "name": "python3"
  },
  "language_info": {
   "codemirror_mode": {
    "name": "ipython",
    "version": 3
   },
   "file_extension": ".py",
   "mimetype": "text/x-python",
   "name": "python",
   "nbconvert_exporter": "python",
   "pygments_lexer": "ipython3",
   "version": "3.6.7"
  }
 },
 "nbformat": 4,
 "nbformat_minor": 2
}
